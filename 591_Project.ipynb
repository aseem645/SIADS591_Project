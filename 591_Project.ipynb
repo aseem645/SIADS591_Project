{
 "cells": [
  {
   "cell_type": "code",
   "execution_count": 2,
   "metadata": {},
   "outputs": [
    {
     "data": {
      "text/html": [
       "<style>.container { width:99% !important; }</style>"
      ],
      "text/plain": [
       "<IPython.core.display.HTML object>"
      ]
     },
     "metadata": {},
     "output_type": "display_data"
    }
   ],
   "source": [
    "from IPython.core.display import display, HTML; display(HTML(\"<style>.container { width:99% !important; }</style>\"))"
   ]
  },
  {
   "cell_type": "code",
   "execution_count": 1,
   "metadata": {},
   "outputs": [],
   "source": [
    "##Let's import the following dependencies\n",
    "import pandas as pd\n",
    "import numpy as np\n",
    "import seaborn as sns\n",
    "import matplotlib\n",
    "\n",
    "\n",
    "\n",
    "pd.set_option(\"display.max_columns\", 999)"
   ]
  },
  {
   "cell_type": "markdown",
   "metadata": {},
   "source": [
    "# Dribble Science: Introduction"
   ]
  },
  {
   "cell_type": "code",
   "execution_count": 8,
   "metadata": {},
   "outputs": [],
   "source": [
    "dataframe = pd.read_csv(r'C:\\Users\\YZH79C\\Documents\\SIADS591_EXAM\\datasets_527325_1332417_PatientInfo.csv')"
   ]
  },
  {
   "cell_type": "code",
   "execution_count": 9,
   "metadata": {},
   "outputs": [
    {
     "output_type": "execute_result",
     "data": {
      "text/plain": "   patient_id     sex  age country province         city  \\\n0  1000000001    male  50s   Korea    Seoul   Gangseo-gu   \n1  1000000002    male  30s   Korea    Seoul  Jungnang-gu   \n2  1000000003    male  50s   Korea    Seoul    Jongno-gu   \n3  1000000004    male  20s   Korea    Seoul      Mapo-gu   \n4  1000000005  female  20s   Korea    Seoul  Seongbuk-gu   \n\n         infection_case infected_by contact_number symptom_onset_date  \\\n0       overseas inflow         NaN             75         2020-01-22   \n1       overseas inflow         NaN             31                NaN   \n2  contact with patient  2002000001             17                NaN   \n3       overseas inflow         NaN              9         2020-01-26   \n4  contact with patient  1000000002              2                NaN   \n\n  confirmed_date released_date deceased_date     state  \n0     2020-01-23    2020-02-05           NaN  released  \n1     2020-01-30    2020-03-02           NaN  released  \n2     2020-01-30    2020-02-19           NaN  released  \n3     2020-01-30    2020-02-15           NaN  released  \n4     2020-01-31    2020-02-24           NaN  released  ",
      "text/html": "<div>\n<style scoped>\n    .dataframe tbody tr th:only-of-type {\n        vertical-align: middle;\n    }\n\n    .dataframe tbody tr th {\n        vertical-align: top;\n    }\n\n    .dataframe thead th {\n        text-align: right;\n    }\n</style>\n<table border=\"1\" class=\"dataframe\">\n  <thead>\n    <tr style=\"text-align: right;\">\n      <th></th>\n      <th>patient_id</th>\n      <th>sex</th>\n      <th>age</th>\n      <th>country</th>\n      <th>province</th>\n      <th>city</th>\n      <th>infection_case</th>\n      <th>infected_by</th>\n      <th>contact_number</th>\n      <th>symptom_onset_date</th>\n      <th>confirmed_date</th>\n      <th>released_date</th>\n      <th>deceased_date</th>\n      <th>state</th>\n    </tr>\n  </thead>\n  <tbody>\n    <tr>\n      <td>0</td>\n      <td>1000000001</td>\n      <td>male</td>\n      <td>50s</td>\n      <td>Korea</td>\n      <td>Seoul</td>\n      <td>Gangseo-gu</td>\n      <td>overseas inflow</td>\n      <td>NaN</td>\n      <td>75</td>\n      <td>2020-01-22</td>\n      <td>2020-01-23</td>\n      <td>2020-02-05</td>\n      <td>NaN</td>\n      <td>released</td>\n    </tr>\n    <tr>\n      <td>1</td>\n      <td>1000000002</td>\n      <td>male</td>\n      <td>30s</td>\n      <td>Korea</td>\n      <td>Seoul</td>\n      <td>Jungnang-gu</td>\n      <td>overseas inflow</td>\n      <td>NaN</td>\n      <td>31</td>\n      <td>NaN</td>\n      <td>2020-01-30</td>\n      <td>2020-03-02</td>\n      <td>NaN</td>\n      <td>released</td>\n    </tr>\n    <tr>\n      <td>2</td>\n      <td>1000000003</td>\n      <td>male</td>\n      <td>50s</td>\n      <td>Korea</td>\n      <td>Seoul</td>\n      <td>Jongno-gu</td>\n      <td>contact with patient</td>\n      <td>2002000001</td>\n      <td>17</td>\n      <td>NaN</td>\n      <td>2020-01-30</td>\n      <td>2020-02-19</td>\n      <td>NaN</td>\n      <td>released</td>\n    </tr>\n    <tr>\n      <td>3</td>\n      <td>1000000004</td>\n      <td>male</td>\n      <td>20s</td>\n      <td>Korea</td>\n      <td>Seoul</td>\n      <td>Mapo-gu</td>\n      <td>overseas inflow</td>\n      <td>NaN</td>\n      <td>9</td>\n      <td>2020-01-26</td>\n      <td>2020-01-30</td>\n      <td>2020-02-15</td>\n      <td>NaN</td>\n      <td>released</td>\n    </tr>\n    <tr>\n      <td>4</td>\n      <td>1000000005</td>\n      <td>female</td>\n      <td>20s</td>\n      <td>Korea</td>\n      <td>Seoul</td>\n      <td>Seongbuk-gu</td>\n      <td>contact with patient</td>\n      <td>1000000002</td>\n      <td>2</td>\n      <td>NaN</td>\n      <td>2020-01-31</td>\n      <td>2020-02-24</td>\n      <td>NaN</td>\n      <td>released</td>\n    </tr>\n  </tbody>\n</table>\n</div>"
     },
     "metadata": {},
     "execution_count": 9
    }
   ],
   "source": [
    "dataframe.head()"
   ]
  },
  {
   "cell_type": "code",
   "execution_count": 10,
   "metadata": {},
   "outputs": [
    {
     "output_type": "execute_result",
     "data": {
      "text/plain": "      patient_id     sex  age     country province         city  \\\n0     1000000001    male  50s       Korea    Seoul   Gangseo-gu   \n1     1000000002    male  30s       Korea    Seoul  Jungnang-gu   \n2     1000000003    male  50s       Korea    Seoul    Jongno-gu   \n3     1000000004    male  20s       Korea    Seoul      Mapo-gu   \n4     1000000005  female  20s       Korea    Seoul  Seongbuk-gu   \n...          ...     ...  ...         ...      ...          ...   \n5160  7000000015  female  30s       Korea  Jeju-do      Jeju-do   \n5161  7000000016     NaN  NaN       Korea  Jeju-do      Jeju-do   \n5162  7000000017     NaN  NaN  Bangladesh  Jeju-do      Jeju-do   \n5163  7000000018     NaN  NaN  Bangladesh  Jeju-do      Jeju-do   \n5164  7000000019     NaN  NaN  Bangladesh  Jeju-do      Jeju-do   \n\n            infection_case infected_by contact_number symptom_onset_date  \\\n0          overseas inflow         NaN             75         2020-01-22   \n1          overseas inflow         NaN             31                NaN   \n2     contact with patient  2002000001             17                NaN   \n3          overseas inflow         NaN              9         2020-01-26   \n4     contact with patient  1000000002              2                NaN   \n...                    ...         ...            ...                ...   \n5160       overseas inflow         NaN             25                NaN   \n5161       overseas inflow         NaN            NaN                NaN   \n5162       overseas inflow         NaN             72                NaN   \n5163       overseas inflow         NaN            NaN                NaN   \n5164       overseas inflow         NaN            NaN                NaN   \n\n     confirmed_date released_date deceased_date     state  state_encoded  \n0        2020-01-23    2020-02-05           NaN  released              2  \n1        2020-01-30    2020-03-02           NaN  released              2  \n2        2020-01-30    2020-02-19           NaN  released              2  \n3        2020-01-30    2020-02-15           NaN  released              2  \n4        2020-01-31    2020-02-24           NaN  released              2  \n...             ...           ...           ...       ...            ...  \n5160     2020-05-30    2020-06-13           NaN  released              2  \n5161     2020-06-16    2020-06-24           NaN  released              2  \n5162     2020-06-18           NaN           NaN  isolated              1  \n5163     2020-06-18           NaN           NaN  isolated              1  \n5164     2020-06-18           NaN           NaN  isolated              1  \n\n[5165 rows x 15 columns]",
      "text/html": "<div>\n<style scoped>\n    .dataframe tbody tr th:only-of-type {\n        vertical-align: middle;\n    }\n\n    .dataframe tbody tr th {\n        vertical-align: top;\n    }\n\n    .dataframe thead th {\n        text-align: right;\n    }\n</style>\n<table border=\"1\" class=\"dataframe\">\n  <thead>\n    <tr style=\"text-align: right;\">\n      <th></th>\n      <th>patient_id</th>\n      <th>sex</th>\n      <th>age</th>\n      <th>country</th>\n      <th>province</th>\n      <th>city</th>\n      <th>infection_case</th>\n      <th>infected_by</th>\n      <th>contact_number</th>\n      <th>symptom_onset_date</th>\n      <th>confirmed_date</th>\n      <th>released_date</th>\n      <th>deceased_date</th>\n      <th>state</th>\n      <th>state_encoded</th>\n    </tr>\n  </thead>\n  <tbody>\n    <tr>\n      <td>0</td>\n      <td>1000000001</td>\n      <td>male</td>\n      <td>50s</td>\n      <td>Korea</td>\n      <td>Seoul</td>\n      <td>Gangseo-gu</td>\n      <td>overseas inflow</td>\n      <td>NaN</td>\n      <td>75</td>\n      <td>2020-01-22</td>\n      <td>2020-01-23</td>\n      <td>2020-02-05</td>\n      <td>NaN</td>\n      <td>released</td>\n      <td>2</td>\n    </tr>\n    <tr>\n      <td>1</td>\n      <td>1000000002</td>\n      <td>male</td>\n      <td>30s</td>\n      <td>Korea</td>\n      <td>Seoul</td>\n      <td>Jungnang-gu</td>\n      <td>overseas inflow</td>\n      <td>NaN</td>\n      <td>31</td>\n      <td>NaN</td>\n      <td>2020-01-30</td>\n      <td>2020-03-02</td>\n      <td>NaN</td>\n      <td>released</td>\n      <td>2</td>\n    </tr>\n    <tr>\n      <td>2</td>\n      <td>1000000003</td>\n      <td>male</td>\n      <td>50s</td>\n      <td>Korea</td>\n      <td>Seoul</td>\n      <td>Jongno-gu</td>\n      <td>contact with patient</td>\n      <td>2002000001</td>\n      <td>17</td>\n      <td>NaN</td>\n      <td>2020-01-30</td>\n      <td>2020-02-19</td>\n      <td>NaN</td>\n      <td>released</td>\n      <td>2</td>\n    </tr>\n    <tr>\n      <td>3</td>\n      <td>1000000004</td>\n      <td>male</td>\n      <td>20s</td>\n      <td>Korea</td>\n      <td>Seoul</td>\n      <td>Mapo-gu</td>\n      <td>overseas inflow</td>\n      <td>NaN</td>\n      <td>9</td>\n      <td>2020-01-26</td>\n      <td>2020-01-30</td>\n      <td>2020-02-15</td>\n      <td>NaN</td>\n      <td>released</td>\n      <td>2</td>\n    </tr>\n    <tr>\n      <td>4</td>\n      <td>1000000005</td>\n      <td>female</td>\n      <td>20s</td>\n      <td>Korea</td>\n      <td>Seoul</td>\n      <td>Seongbuk-gu</td>\n      <td>contact with patient</td>\n      <td>1000000002</td>\n      <td>2</td>\n      <td>NaN</td>\n      <td>2020-01-31</td>\n      <td>2020-02-24</td>\n      <td>NaN</td>\n      <td>released</td>\n      <td>2</td>\n    </tr>\n    <tr>\n      <td>...</td>\n      <td>...</td>\n      <td>...</td>\n      <td>...</td>\n      <td>...</td>\n      <td>...</td>\n      <td>...</td>\n      <td>...</td>\n      <td>...</td>\n      <td>...</td>\n      <td>...</td>\n      <td>...</td>\n      <td>...</td>\n      <td>...</td>\n      <td>...</td>\n      <td>...</td>\n    </tr>\n    <tr>\n      <td>5160</td>\n      <td>7000000015</td>\n      <td>female</td>\n      <td>30s</td>\n      <td>Korea</td>\n      <td>Jeju-do</td>\n      <td>Jeju-do</td>\n      <td>overseas inflow</td>\n      <td>NaN</td>\n      <td>25</td>\n      <td>NaN</td>\n      <td>2020-05-30</td>\n      <td>2020-06-13</td>\n      <td>NaN</td>\n      <td>released</td>\n      <td>2</td>\n    </tr>\n    <tr>\n      <td>5161</td>\n      <td>7000000016</td>\n      <td>NaN</td>\n      <td>NaN</td>\n      <td>Korea</td>\n      <td>Jeju-do</td>\n      <td>Jeju-do</td>\n      <td>overseas inflow</td>\n      <td>NaN</td>\n      <td>NaN</td>\n      <td>NaN</td>\n      <td>2020-06-16</td>\n      <td>2020-06-24</td>\n      <td>NaN</td>\n      <td>released</td>\n      <td>2</td>\n    </tr>\n    <tr>\n      <td>5162</td>\n      <td>7000000017</td>\n      <td>NaN</td>\n      <td>NaN</td>\n      <td>Bangladesh</td>\n      <td>Jeju-do</td>\n      <td>Jeju-do</td>\n      <td>overseas inflow</td>\n      <td>NaN</td>\n      <td>72</td>\n      <td>NaN</td>\n      <td>2020-06-18</td>\n      <td>NaN</td>\n      <td>NaN</td>\n      <td>isolated</td>\n      <td>1</td>\n    </tr>\n    <tr>\n      <td>5163</td>\n      <td>7000000018</td>\n      <td>NaN</td>\n      <td>NaN</td>\n      <td>Bangladesh</td>\n      <td>Jeju-do</td>\n      <td>Jeju-do</td>\n      <td>overseas inflow</td>\n      <td>NaN</td>\n      <td>NaN</td>\n      <td>NaN</td>\n      <td>2020-06-18</td>\n      <td>NaN</td>\n      <td>NaN</td>\n      <td>isolated</td>\n      <td>1</td>\n    </tr>\n    <tr>\n      <td>5164</td>\n      <td>7000000019</td>\n      <td>NaN</td>\n      <td>NaN</td>\n      <td>Bangladesh</td>\n      <td>Jeju-do</td>\n      <td>Jeju-do</td>\n      <td>overseas inflow</td>\n      <td>NaN</td>\n      <td>NaN</td>\n      <td>NaN</td>\n      <td>2020-06-18</td>\n      <td>NaN</td>\n      <td>NaN</td>\n      <td>isolated</td>\n      <td>1</td>\n    </tr>\n  </tbody>\n</table>\n<p>5165 rows × 15 columns</p>\n</div>"
     },
     "metadata": {},
     "execution_count": 10
    }
   ],
   "source": [
    "dataframe[\"state\"] = dataframe[\"state\"].astype('category')\n",
    "dataframe[\"state_encoded\"] = dataframe[\"state\"].cat.codes\n",
    "dataframe"
   ]
  },
  {
   "cell_type": "code",
   "execution_count": 12,
   "metadata": {
    "tags": []
   },
   "outputs": [],
   "source": [
    "#0=deceased, 1=isolated, 2=released"
   ]
  },
  {
   "cell_type": "code",
   "execution_count": null,
   "metadata": {},
   "outputs": [],
   "source": []
  }
 ],
 "metadata": {
  "kernelspec": {
   "display_name": "Python 3.7.4 32-bit",
   "language": "python",
   "name": "python_defaultSpec_1597421014973"
  },
  "language_info": {
   "codemirror_mode": {
    "name": "ipython",
    "version": 3
   },
   "file_extension": ".py",
   "mimetype": "text/x-python",
   "name": "python",
   "nbconvert_exporter": "python",
   "pygments_lexer": "ipython3",
   "version": "3.7.4-final"
  }
 },
 "nbformat": 4,
 "nbformat_minor": 2
}