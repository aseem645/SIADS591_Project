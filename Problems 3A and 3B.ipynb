{
 "cells": [
  {
   "cell_type": "markdown",
   "metadata": {},
   "source": [
    "# 3a) Reaction Time:\n",
    "Null Hypothesis: As the Target Comparison and/or Reaction Time scores increase, steal and block rates will not increase nor decrease at statistically significant levels\n",
    "\n",
    "Alternative Hypothesis: As the Target Comparison and/or Reaction Time scores increase, steal and block rates will increase or decrease at statistically significant levels"
   ]
  },
  {
   "cell_type": "code",
   "execution_count": 1,
   "metadata": {},
   "outputs": [
    {
     "ename": "NameError",
     "evalue": "name 'pg' is not defined",
     "output_type": "error",
     "traceback": [
      "\u001b[1;31m---------------------------------------------------------------------------\u001b[0m",
      "\u001b[1;31mNameError\u001b[0m                                 Traceback (most recent call last)",
      "\u001b[1;32m<ipython-input-1-82d059950bee>\u001b[0m in \u001b[0;36m<module>\u001b[1;34m\u001b[0m\n\u001b[0;32m      1\u001b[0m \u001b[1;31m#Let's calculate the pearson correlation between Reaction Time and Steal Percentage\u001b[0m\u001b[1;33m\u001b[0m\u001b[1;33m\u001b[0m\u001b[1;33m\u001b[0m\u001b[0m\n\u001b[1;32m----> 2\u001b[1;33m \u001b[0mpg\u001b[0m\u001b[1;33m.\u001b[0m\u001b[0mcorr\u001b[0m\u001b[1;33m(\u001b[0m\u001b[0mx\u001b[0m\u001b[1;33m=\u001b[0m\u001b[0maiq_2years\u001b[0m\u001b[1;33m[\u001b[0m\u001b[1;34m'Reaction Time'\u001b[0m\u001b[1;33m]\u001b[0m\u001b[1;33m,\u001b[0m \u001b[0my\u001b[0m\u001b[1;33m=\u001b[0m\u001b[0maiq_2years\u001b[0m\u001b[1;33m[\u001b[0m\u001b[1;34m'steal_percentage'\u001b[0m\u001b[1;33m]\u001b[0m\u001b[1;33m)\u001b[0m\u001b[1;33m\u001b[0m\u001b[1;33m\u001b[0m\u001b[0m\n\u001b[0m",
      "\u001b[1;31mNameError\u001b[0m: name 'pg' is not defined"
     ]
    }
   ],
   "source": [
    "#Let's calculate the pearson correlation between Reaction Time and Steal Percentage\n",
    "pg.corr(x=aiq_2years['Reaction Time'], y=aiq_2years['steal_percentage'])"
   ]
  },
  {
   "cell_type": "code",
   "execution_count": null,
   "metadata": {},
   "outputs": [],
   "source": [
    "Base = alt.Chart(aiq_2years).mark_circle(size=30).encode(\n",
    "x=alt.X(\n",
    "  'Reaction Time',\n",
    "  axis=alt.Axis(),\n",
    "  title= 'Reaction Time',\n",
    "  scale=Scale(domain=[65, 135])  \n",
    "  ),\n",
    "  y=alt.Y(\n",
    "  'steal_percentage',\n",
    "  axis=alt.Axis(),\n",
    "  title='steal_percentage', \n",
    "  scale=Scale(domain=[0, 3.5])\n",
    "  ),\n",
    "  color = alt.Color('position')\n",
    ")\n",
    "degree_list = [3, 5, 7]\n",
    "polynomial_fit = [\n",
    "    Base.transform_regression(\n",
    "        'Reaction Time', 'steal_percentage', method=\"poly\", order=order, as_=['Reaction Time', str(order)]\n",
    "    )\n",
    "    .mark_line()\n",
    "    .transform_fold([str(order)], as_=[\"degree\", 'steal_percentage'])\n",
    "    .encode(alt.Color(\"degree:N\"))\n",
    "    for order in degree_list\n",
    "]\n",
    "alt.layer(Base, *polynomial_fit,Base.transform_regression('Reaction Time','steal_percentage').mark_line(color='black'))"
   ]
  },
  {
   "cell_type": "code",
   "execution_count": null,
   "metadata": {},
   "outputs": [],
   "source": [
    "#Let's calculate the pearson correlation between Learning efficiency and Player efficiency\n",
    "\n",
    "aiq_2years['Learning Efficiency'] = aiq_2years['Learning Efficiency'].astype(float)\n",
    "aiq_2years['player_efficiency_rating'] = aiq_2years['player_efficiency_rating'].astype(float)\n",
    "\n",
    "pg.corr(x=aiq_2years['Learning Efficiency'], y=aiq_2years['player_efficiency_rating'])"
   ]
  },
  {
   "cell_type": "code",
   "execution_count": null,
   "metadata": {},
   "outputs": [],
   "source": [
    "Base = alt.Chart(aiq_2years).mark_circle(size=30).encode(\n",
    "x=alt.X(\n",
    "  'Learning Efficiency',\n",
    "  axis=alt.Axis(),\n",
    "  title= 'Learning Efficiency',\n",
    "  scale=Scale(domain=[65, 135])  \n",
    "  ),\n",
    "  y=alt.Y(\n",
    "  'player_efficiency_rating',\n",
    "  axis=alt.Axis(),\n",
    "  title='player_efficency_rating', \n",
    "  scale=Scale(domain=[0, 25])\n",
    "  ),\n",
    "  color = alt.Color('position')\n",
    ")\n",
    "degree_list = [3, 5, 7]\n",
    "polynomial_fit = [\n",
    "    Base.transform_regression(\n",
    "        'Learning Efficiency', 'player_efficiency_rating', method=\"poly\", order=order, as_=['Learning Efficiency', str(order)]\n",
    "    )\n",
    "    .mark_line()\n",
    "    .transform_fold([str(order)], as_=[\"degree\", 'player_efficiency_rating'])\n",
    "    .encode(alt.Color(\"degree:N\"))\n",
    "    for order in degree_list\n",
    "]\n",
    "alt.layer(Base, *polynomial_fit,Base.transform_regression('Learning Efficiency','player_efficiency_rating').mark_line(color='black'))"
   ]
  }
 ],
 "metadata": {
  "kernelspec": {
   "display_name": "Python 3",
   "language": "python",
   "name": "python3"
  },
  "language_info": {
   "codemirror_mode": {
    "name": "ipython",
    "version": 3
   },
   "file_extension": ".py",
   "mimetype": "text/x-python",
   "name": "python",
   "nbconvert_exporter": "python",
   "pygments_lexer": "ipython3",
   "version": "3.7.4"
  }
 },
 "nbformat": 4,
 "nbformat_minor": 4
}
